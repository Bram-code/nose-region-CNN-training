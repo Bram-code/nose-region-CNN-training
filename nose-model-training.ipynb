{
 "cells": [
  {
   "cell_type": "code",
   "execution_count": 75,
   "metadata": {},
   "outputs": [],
   "source": [
    "import os\n",
    "import cv2\n",
    "import pandas as pd\n",
    "from PIL import Image\n",
    "import sys"
   ]
  },
  {
   "cell_type": "code",
   "execution_count": 76,
   "metadata": {},
   "outputs": [],
   "source": [
    "nose_cascade = cv2.CascadeClassifier('haarcascade_mcs_nose.xml')"
   ]
  },
  {
   "cell_type": "code",
   "execution_count": 77,
   "metadata": {},
   "outputs": [],
   "source": [
    "noses = []\n",
    "ages = []\n",
    "genders = []\n",
    "\n",
    "for i in os.listdir('data/crop_part1/')[0:8000]:\n",
    "    split = i.split('_')\n",
    "    ages.append(int(split[0]))      \n",
    "    genders.append(int(split[1]))  \n",
    "\n",
    "    img = cv2.imread('data/crop_part1/' + i)\n",
    "    gray = cv2.cvtColor(img, cv2.COLOR_BGR2GRAY)\n",
    "\n",
    "    noses_rect = nose_cascade.detectMultiScale(gray, 1.3, 5)\n",
    "\n",
    "    if len(noses_rect) > 0:\n",
    "        x, y, w, h = noses_rect[0]  \n",
    "        nose_img = img[y:y+h, x:x+w]  \n",
    "\n",
    "        noses.append(Image.fromarray(cv2.cvtColor(nose_img, cv2.COLOR_BGR2RGB)))\n",
    "    else:\n",
    "        noses.append(None) "
   ]
  },
  {
   "cell_type": "code",
   "execution_count": 78,
   "metadata": {},
   "outputs": [
    {
     "data": {
      "text/html": [
       "<div>\n",
       "<style scoped>\n",
       "    .dataframe tbody tr th:only-of-type {\n",
       "        vertical-align: middle;\n",
       "    }\n",
       "\n",
       "    .dataframe tbody tr th {\n",
       "        vertical-align: top;\n",
       "    }\n",
       "\n",
       "    .dataframe thead th {\n",
       "        text-align: right;\n",
       "    }\n",
       "</style>\n",
       "<table border=\"1\" class=\"dataframe\">\n",
       "  <thead>\n",
       "    <tr style=\"text-align: right;\">\n",
       "      <th></th>\n",
       "      <th>Noses</th>\n",
       "      <th>Ages</th>\n",
       "      <th>Genders</th>\n",
       "    </tr>\n",
       "  </thead>\n",
       "  <tbody>\n",
       "    <tr>\n",
       "      <th>0</th>\n",
       "      <td>&lt;PIL.Image.Image image mode=RGB size=56x47 at ...</td>\n",
       "      <td>9</td>\n",
       "      <td>1</td>\n",
       "    </tr>\n",
       "    <tr>\n",
       "      <th>1</th>\n",
       "      <td>&lt;PIL.Image.Image image mode=RGB size=52x43 at ...</td>\n",
       "      <td>1</td>\n",
       "      <td>1</td>\n",
       "    </tr>\n",
       "    <tr>\n",
       "      <th>2</th>\n",
       "      <td>&lt;PIL.Image.Image image mode=RGB size=54x45 at ...</td>\n",
       "      <td>16</td>\n",
       "      <td>0</td>\n",
       "    </tr>\n",
       "    <tr>\n",
       "      <th>3</th>\n",
       "      <td>&lt;PIL.Image.Image image mode=RGB size=47x39 at ...</td>\n",
       "      <td>1</td>\n",
       "      <td>1</td>\n",
       "    </tr>\n",
       "    <tr>\n",
       "      <th>4</th>\n",
       "      <td>&lt;PIL.Image.Image image mode=RGB size=59x50 at ...</td>\n",
       "      <td>26</td>\n",
       "      <td>1</td>\n",
       "    </tr>\n",
       "    <tr>\n",
       "      <th>...</th>\n",
       "      <td>...</td>\n",
       "      <td>...</td>\n",
       "      <td>...</td>\n",
       "    </tr>\n",
       "    <tr>\n",
       "      <th>7995</th>\n",
       "      <td>&lt;PIL.Image.Image image mode=RGB size=62x52 at ...</td>\n",
       "      <td>48</td>\n",
       "      <td>0</td>\n",
       "    </tr>\n",
       "    <tr>\n",
       "      <th>7996</th>\n",
       "      <td>&lt;PIL.Image.Image image mode=RGB size=60x50 at ...</td>\n",
       "      <td>65</td>\n",
       "      <td>0</td>\n",
       "    </tr>\n",
       "    <tr>\n",
       "      <th>7997</th>\n",
       "      <td>&lt;PIL.Image.Image image mode=RGB size=60x50 at ...</td>\n",
       "      <td>5</td>\n",
       "      <td>1</td>\n",
       "    </tr>\n",
       "    <tr>\n",
       "      <th>7998</th>\n",
       "      <td>&lt;PIL.Image.Image image mode=RGB size=63x53 at ...</td>\n",
       "      <td>35</td>\n",
       "      <td>0</td>\n",
       "    </tr>\n",
       "    <tr>\n",
       "      <th>7999</th>\n",
       "      <td>&lt;PIL.Image.Image image mode=RGB size=52x44 at ...</td>\n",
       "      <td>45</td>\n",
       "      <td>0</td>\n",
       "    </tr>\n",
       "  </tbody>\n",
       "</table>\n",
       "<p>8000 rows × 3 columns</p>\n",
       "</div>"
      ],
      "text/plain": [
       "                                                  Noses  Ages  Genders\n",
       "0     <PIL.Image.Image image mode=RGB size=56x47 at ...     9        1\n",
       "1     <PIL.Image.Image image mode=RGB size=52x43 at ...     1        1\n",
       "2     <PIL.Image.Image image mode=RGB size=54x45 at ...    16        0\n",
       "3     <PIL.Image.Image image mode=RGB size=47x39 at ...     1        1\n",
       "4     <PIL.Image.Image image mode=RGB size=59x50 at ...    26        1\n",
       "...                                                 ...   ...      ...\n",
       "7995  <PIL.Image.Image image mode=RGB size=62x52 at ...    48        0\n",
       "7996  <PIL.Image.Image image mode=RGB size=60x50 at ...    65        0\n",
       "7997  <PIL.Image.Image image mode=RGB size=60x50 at ...     5        1\n",
       "7998  <PIL.Image.Image image mode=RGB size=63x53 at ...    35        0\n",
       "7999  <PIL.Image.Image image mode=RGB size=52x44 at ...    45        0\n",
       "\n",
       "[8000 rows x 3 columns]"
      ]
     },
     "execution_count": 78,
     "metadata": {},
     "output_type": "execute_result"
    }
   ],
   "source": [
    "noses = pd.Series(noses, name='Noses')\n",
    "ages = pd.Series(ages, name='Ages')\n",
    "genders = pd.Series(genders, name='Genders')\n",
    "\n",
    "df = pd.concat([noses, ages, genders], axis=1)\n",
    "\n",
    "df"
   ]
  },
  {
   "cell_type": "code",
   "execution_count": 79,
   "metadata": {},
   "outputs": [
    {
     "data": {
      "image/jpeg": "[encoded data removed]",
      "image/png": "[encoded data removed]",
      "text/plain": [
       "<PIL.Image.Image image mode=RGB size=51x42>"
      ]
     },
     "metadata": {},
     "output_type": "display_data"
    },
    {
     "name": "stdout",
     "output_type": "stream",
     "text": [
      "9 1\n"
     ]
    }
   ],
   "source": [
    "display(df['Noses'][900])\n",
    "print(df['Ages'][0], df['Genders'][0])"
   ]
  }
 ],
 "metadata": {
  "kernelspec": {
   "display_name": "bootcamp3",
   "language": "python",
   "name": "python3"
  },
  "language_info": {
   "codemirror_mode": {
    "name": "ipython",
    "version": 3
   },
   "file_extension": ".py",
   "mimetype": "text/x-python",
   "name": "python",
   "nbconvert_exporter": "python",
   "pygments_lexer": "ipython3",
   "version": "3.12.4"
  }
 },
 "nbformat": 4,
 "nbformat_minor": 2
}
